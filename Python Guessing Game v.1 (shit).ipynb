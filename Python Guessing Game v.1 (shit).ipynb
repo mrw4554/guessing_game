{
 "metadata": {
  "language_info": {
   "codemirror_mode": {
    "name": "ipython",
    "version": 3
   },
   "file_extension": ".py",
   "mimetype": "text/x-python",
   "name": "python",
   "nbconvert_exporter": "python",
   "pygments_lexer": "ipython3",
   "version": "3.8.5-final"
  },
  "orig_nbformat": 2,
  "kernelspec": {
   "name": "python_defaultSpec_1597284943901",
   "display_name": "Python 3.8.5 64-bit"
  }
 },
 "nbformat": 4,
 "nbformat_minor": 2,
 "cells": [
  {
   "cell_type": "code",
   "execution_count": 3,
   "metadata": {
    "tags": []
   },
   "outputs": [
    {
     "output_type": "stream",
     "name": "stdout",
     "text": "\nYOU LOSE!!!\nThe correct answer was...2!\nTry Again\n         \nYOU WIN!!! Your correct value was...2\nGAME OVER, CONGRADULATIONS!\nthis should be in version two with git.\n"
    }
   ],
   "source": [
    "import random\n",
    "import time\n",
    "while 1>0:\n",
    "    choice = int(input(\"Choose a number 1-2\"))\n",
    "    value = random.randint(1, 2)\n",
    "    if choice == value:\n",
    "        print(\"YOU WIN!!! Your correct value was...\"+str(value))\n",
    "        break\n",
    "    else:\n",
    "        print(\"\"\"\n",
    "YOU LOSE!!!\n",
    "The correct answer was...\"\"\"+str(value)+\"\"\"!\n",
    "Try Again\n",
    "         \"\"\")\n",
    "        \n",
    "        time.sleep(2)\n",
    "        \n",
    "\n",
    "print(\"GAME OVER, CONGRADULATIONS!\")\n",
    "\n",
    "print(\"this should be in version two with git.\")"
   ]
  },
  {
   "cell_type": "code",
   "execution_count": null,
   "metadata": {},
   "outputs": [],
   "source": []
  }
 ]
}